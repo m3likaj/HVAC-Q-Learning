{
 "nbformat": 4,
 "nbformat_minor": 0,
 "metadata": {
  "colab": {
   "provenance": []
  },
  "kernelspec": {
   "name": "python3",
   "display_name": "Python 3"
  },
  "language_info": {
   "name": "python"
  },
  "widgets": {
   "application/vnd.jupyter.widget-state+json": {}
  }
 },
 "cells": [
  {
   "metadata": {},
   "cell_type": "markdown",
   "source": "![](Images/1.jpg)"
  },
  {
   "cell_type": "markdown",
   "source": "![](Images/3.jpg)",
   "metadata": {
    "id": "aC5JMu6sxets"
   }
  },
  {
   "cell_type": "markdown",
   "source": [
    "IMPORTS"
   ],
   "metadata": {
    "id": "yqijN8wvAsa2"
   }
  },
  {
   "cell_type": "code",
   "source": [
    "#!pip install pvlib\n",
    "#!pip install pandas\n",
    "#!pip install ipywidgets\n",
    "\n",
    "from IPython.display import display\n",
    "import ipywidgets as widgets\n",
    "import numpy as np # linear algebra\n",
    "import pandas as pd # data processing, CSV file I/O (e.g. pd.read_csv)\n",
    "import pvlib\n",
    "from datetime import datetime, timedelta\n",
    "from pvlib.iotools import read_epw\n",
    "import gym\n",
    "from gym import spaces\n",
    "from collections import defaultdict\n",
    "import pickle\n",
    "import matplotlib.pyplot as plt\n",
    "import pygame\n",
    "import sys\n",
    "from collections import defaultdict"
   ],
   "metadata": {
    "id": "iTxkLbgvASNA",
    "ExecuteTime": {
     "end_time": "2025-06-04T12:21:32.194332Z",
     "start_time": "2025-06-04T12:21:31.049483Z"
    }
   },
   "outputs": [],
   "execution_count": 1
  },
  {
   "cell_type": "markdown",
   "source": "![](Images/4.jpg)",
   "metadata": {
    "id": "SiAL80dgzthz"
   }
  },
  {
   "cell_type": "markdown",
   "source": [
    "LOAD WEATHER DATA"
   ],
   "metadata": {
    "id": "G8G3FxsPAxAl"
   }
  },
  {
   "cell_type": "code",
   "source": [
    "# Read the EPW file\n",
    "weather_data, meta = read_epw(\"istanbulWeather.epw\")\n",
    "\n",
    "# Preview the data\n",
    "print(weather_data.head())\n",
    "print(weather_data.columns.tolist())\n",
    "\n",
    "# Access dry bulb temperature (°C)\n",
    "temps = weather_data[\"temp_air\"]\n",
    "\n",
    "# Example: Print first 5 timestamps and temps\n",
    "for i, (time, temp) in enumerate(temps.items()):\n",
    "    if i >= 50:\n",
    "        break\n",
    "    print(f\"{i}: {temp}\")"
   ],
   "metadata": {
    "id": "0Z6XZE7vWPPc",
    "colab": {
     "base_uri": "https://localhost:8080/"
    },
    "outputId": "14e37dea-82c3-4ef0-c846-5950c1eb2bff",
    "ExecuteTime": {
     "end_time": "2025-06-04T12:21:32.248493Z",
     "start_time": "2025-06-04T12:21:32.199361Z"
    }
   },
   "outputs": [
    {
     "name": "stdout",
     "output_type": "stream",
     "text": [
      "                           year  month  day  hour  minute  \\\n",
      "1991-01-01 00:00:00+02:00  1991      1    1     1      60   \n",
      "1991-01-01 01:00:00+02:00  1991      1    1     2      60   \n",
      "1991-01-01 02:00:00+02:00  1991      1    1     3      60   \n",
      "1991-01-01 03:00:00+02:00  1991      1    1     4      60   \n",
      "1991-01-01 04:00:00+02:00  1991      1    1     5      60   \n",
      "\n",
      "                                                       data_source_unct  \\\n",
      "1991-01-01 00:00:00+02:00  C9C9C9C9*0?9?9?9?9?9?9?9*0B8B8B8B8*0*0E8*0*0   \n",
      "1991-01-01 01:00:00+02:00  C9C9C9C9*0?9?9?9?9?9?9?9A7A7A7A7A7A7*0E8*0*0   \n",
      "1991-01-01 02:00:00+02:00  C9C9C9C9*0?9?9?9?9?9?9?9A7A7B8B8A7A7*0E8*0*0   \n",
      "1991-01-01 03:00:00+02:00  C9C9C9C9*0?9?9?9?9?9?9?9A7A7B8B8A7A7*0E8*0*0   \n",
      "1991-01-01 04:00:00+02:00  C9C9C9C9*0?9?9?9?9?9?9?9A7A7A7A7A7A7*0E8*0*0   \n",
      "\n",
      "                           temp_air  temp_dew  relative_humidity  \\\n",
      "1991-01-01 00:00:00+02:00       5.4       4.0                 91   \n",
      "1991-01-01 01:00:00+02:00       5.3       4.2                 93   \n",
      "1991-01-01 02:00:00+02:00       5.2       4.3                 94   \n",
      "1991-01-01 03:00:00+02:00       5.0       4.2                 95   \n",
      "1991-01-01 04:00:00+02:00       4.9       4.1                 95   \n",
      "\n",
      "                           atmospheric_pressure  ...  ceiling_height  \\\n",
      "1991-01-01 00:00:00+02:00                101600  ...           77777   \n",
      "1991-01-01 01:00:00+02:00                101600  ...           22000   \n",
      "1991-01-01 02:00:00+02:00                101700  ...           22000   \n",
      "1991-01-01 03:00:00+02:00                101700  ...           22000   \n",
      "1991-01-01 04:00:00+02:00                101700  ...           22000   \n",
      "\n",
      "                           present_weather_observation  present_weather_codes  \\\n",
      "1991-01-01 00:00:00+02:00                            9              999999999   \n",
      "1991-01-01 01:00:00+02:00                            0              999999099   \n",
      "1991-01-01 02:00:00+02:00                            9              999999999   \n",
      "1991-01-01 03:00:00+02:00                            9              999999999   \n",
      "1991-01-01 04:00:00+02:00                            0              999999599   \n",
      "\n",
      "                           precipitable_water  aerosol_optical_depth  \\\n",
      "1991-01-01 00:00:00+02:00                   0                  0.066   \n",
      "1991-01-01 01:00:00+02:00                   0                  0.066   \n",
      "1991-01-01 02:00:00+02:00                   0                  0.066   \n",
      "1991-01-01 03:00:00+02:00                   0                  0.066   \n",
      "1991-01-01 04:00:00+02:00                   0                  0.066   \n",
      "\n",
      "                           snow_depth  days_since_last_snowfall  albedo  \\\n",
      "1991-01-01 00:00:00+02:00           0                        88     0.0   \n",
      "1991-01-01 01:00:00+02:00           0                        88     0.0   \n",
      "1991-01-01 02:00:00+02:00           0                        88     0.0   \n",
      "1991-01-01 03:00:00+02:00           0                        88     0.0   \n",
      "1991-01-01 04:00:00+02:00           0                        88     0.0   \n",
      "\n",
      "                           liquid_precipitation_depth  \\\n",
      "1991-01-01 00:00:00+02:00                         0.0   \n",
      "1991-01-01 01:00:00+02:00                         0.0   \n",
      "1991-01-01 02:00:00+02:00                         0.0   \n",
      "1991-01-01 03:00:00+02:00                         0.0   \n",
      "1991-01-01 04:00:00+02:00                         0.0   \n",
      "\n",
      "                           liquid_precipitation_quantity  \n",
      "1991-01-01 00:00:00+02:00                            0.0  \n",
      "1991-01-01 01:00:00+02:00                            0.0  \n",
      "1991-01-01 02:00:00+02:00                            0.0  \n",
      "1991-01-01 03:00:00+02:00                            0.0  \n",
      "1991-01-01 04:00:00+02:00                            0.0  \n",
      "\n",
      "[5 rows x 35 columns]\n",
      "['year', 'month', 'day', 'hour', 'minute', 'data_source_unct', 'temp_air', 'temp_dew', 'relative_humidity', 'atmospheric_pressure', 'etr', 'etrn', 'ghi_infrared', 'ghi', 'dni', 'dhi', 'global_hor_illum', 'direct_normal_illum', 'diffuse_horizontal_illum', 'zenith_luminance', 'wind_direction', 'wind_speed', 'total_sky_cover', 'opaque_sky_cover', 'visibility', 'ceiling_height', 'present_weather_observation', 'present_weather_codes', 'precipitable_water', 'aerosol_optical_depth', 'snow_depth', 'days_since_last_snowfall', 'albedo', 'liquid_precipitation_depth', 'liquid_precipitation_quantity']\n",
      "0: 5.4\n",
      "1: 5.3\n",
      "2: 5.2\n",
      "3: 5.0\n",
      "4: 4.9\n",
      "5: 4.8\n",
      "6: 5.0\n",
      "7: 5.0\n",
      "8: 5.0\n",
      "9: 6.0\n",
      "10: 8.0\n",
      "11: 9.0\n",
      "12: 9.5\n",
      "13: 10.0\n",
      "14: 10.0\n",
      "15: 9.7\n",
      "16: 9.4\n",
      "17: 9.2\n",
      "18: 9.0\n",
      "19: 8.3\n",
      "20: 8.0\n",
      "21: 8.0\n",
      "22: 8.0\n",
      "23: 8.0\n",
      "24: 8.0\n",
      "25: 8.4\n",
      "26: 9.0\n",
      "27: 9.0\n",
      "28: 9.2\n",
      "29: 9.6\n",
      "30: 10.0\n",
      "31: 10.0\n",
      "32: 10.0\n",
      "33: 10.0\n",
      "34: 10.1\n",
      "35: 11.0\n",
      "36: 11.0\n",
      "37: 11.0\n",
      "38: 11.0\n",
      "39: 9.0\n",
      "40: 7.8\n",
      "41: 8.0\n",
      "42: 7.0\n",
      "43: 7.0\n",
      "44: 6.0\n",
      "45: 6.0\n",
      "46: 6.2\n",
      "47: 6.6\n",
      "48: 7.0\n",
      "49: 6.7\n"
     ]
    }
   ],
   "execution_count": 2
  },
  {
   "cell_type": "markdown",
   "source": "![](Images/7.jpg)",
   "metadata": {
    "id": "OTWo5foxp_A3"
   }
  },
  {
   "metadata": {
    "id": "Kor-E1i6ppJ-",
    "outputId": "07c3c863-35af-4b97-be45-92d3e07ef383",
    "ExecuteTime": {
     "end_time": "2025-06-04T12:21:32.307922Z",
     "start_time": "2025-06-04T12:21:32.304726Z"
    }
   },
   "cell_type": "code",
   "source": [
    "print(len(temps))"
   ],
   "outputs": [
    {
     "name": "stdout",
     "output_type": "stream",
     "text": [
      "8760\n"
     ]
    }
   ],
   "execution_count": 3
  },
  {
   "cell_type": "markdown",
   "source": [
    "> SET UP THE ROOM CONSTANTS AND GLOBAL VARIABLES\n",
    "\n",
    "\n",
    "\n",
    "\n",
    "\n",
    "\n",
    "\n"
   ],
   "metadata": {
    "id": "Lim81QP8A9jK"
   }
  },
  {
   "cell_type": "code",
   "source": [
    "SURFACE_AREA = 9 #m^2\n",
    "VOLUME = 27 #m^3\n",
    "HEATER_OUTPUT = 1000 #watt\n",
    "AIR_HEAT_CAPACITY = 718 # J/kg.Kelvin\n",
    "AIR_DENSITY = 1.3 #kg/m^3\n",
    "U_CEILING = 0.4\n",
    "U_FLOOR = 0.5\n",
    "U_WALL = 0.6\n",
    "HEAT_ON    = 0\n",
    "COOL_ON    = 1\n",
    "THERM_OFF  = 2\n"
   ],
   "metadata": {
    "id": "J8Fd2NFaABqr",
    "ExecuteTime": {
     "end_time": "2025-06-04T12:21:32.360184Z",
     "start_time": "2025-06-04T12:21:32.356693Z"
    }
   },
   "outputs": [],
   "execution_count": 4
  },
  {
   "cell_type": "code",
   "source": [
    "daily_logs = defaultdict(lambda: {\n",
    "    'time': [],\n",
    "    'tto': [],\n",
    "    'room_temp': [],\n",
    "    'outside_temp': [],\n",
    "    'reward': []\n",
    "})\n",
    "Q = defaultdict(lambda: np.zeros(3))"
   ],
   "metadata": {
    "id": "q5EQHlJDh0FI",
    "ExecuteTime": {
     "end_time": "2025-06-04T12:21:32.383067Z",
     "start_time": "2025-06-04T12:21:32.380491Z"
    }
   },
   "outputs": [],
   "execution_count": 5
  },
  {
   "cell_type": "markdown",
   "source": "![](Images/8.png)",
   "metadata": {
    "id": "kEyNoK3EF22d"
   }
  },
  {
   "cell_type": "markdown",
   "source": [
    "CALCULATE HEAT LOSS AND CHANGE IN TEMPRATURE"
   ],
   "metadata": {
    "id": "ptnzAEvUBDuu"
   }
  },
  {
   "cell_type": "code",
   "source": [
    "def calculate_heat_transfer(temp_outside, temp_inside):\n",
    "    temp_diff = temp_inside - temp_outside\n",
    "    heat_transfer_ceiling =  U_CEILING * SURFACE_AREA *(temp_diff)\n",
    "    heat_transfer_floor = U_FLOOR * SURFACE_AREA *(temp_diff)\n",
    "    heat_transfer_wall = U_WALL * 4 * SURFACE_AREA *(temp_diff)\n",
    "    heat_transfer_total = heat_transfer_ceiling + heat_transfer_floor + heat_transfer_wall\n",
    "    return heat_transfer_total\n",
    "\n",
    "def calculate_change_in_temp(heat_change):\n",
    "  change_in_temp = -(heat_change * 60)/(AIR_HEAT_CAPACITY * AIR_DENSITY * VOLUME)\n",
    "  return change_in_temp"
   ],
   "metadata": {
    "id": "wMsnkccKBADw",
    "ExecuteTime": {
     "end_time": "2025-06-04T12:21:32.404703Z",
     "start_time": "2025-06-04T12:21:32.402080Z"
    }
   },
   "outputs": [],
   "execution_count": 6
  },
  {
   "cell_type": "markdown",
   "source": [
    "SET UP HELPER FUNCTIONS"
   ],
   "metadata": {
    "id": "1IlzyQKmCThs"
   }
  },
  {
   "metadata": {
    "id": "ttxMY6rPppJ_",
    "ExecuteTime": {
     "end_time": "2025-06-04T12:21:32.422078Z",
     "start_time": "2025-06-04T12:21:32.419767Z"
    }
   },
   "cell_type": "code",
   "source": [
    "def reset_plot_variables():\n",
    "  global daily_logs, Q\n",
    "  daily_logs.clear()\n",
    "  Q.clear()"
   ],
   "outputs": [],
   "execution_count": 7
  },
  {
   "metadata": {
    "id": "z3Zg2PY-ppJ_",
    "ExecuteTime": {
     "end_time": "2025-06-04T12:21:32.439477Z",
     "start_time": "2025-06-04T12:21:32.437334Z"
    }
   },
   "cell_type": "code",
   "source": [
    "def save_model(q_table, predictor,logs, filename=\"model.pkl\"):\n",
    "    data = {\n",
    "        \"q_table\": q_table,\n",
    "        \"predictor\": predictor,\n",
    "        \"daily_logs\": logs\n",
    "    }\n",
    "    with open(filename, \"wb\") as f:\n",
    "        pickle.dump(data, f)\n",
    "\n"
   ],
   "outputs": [],
   "execution_count": 8
  },
  {
   "metadata": {
    "id": "cbWpG9MJppJ_",
    "ExecuteTime": {
     "end_time": "2025-06-04T12:21:32.465865Z",
     "start_time": "2025-06-04T12:21:32.462234Z"
    }
   },
   "cell_type": "code",
   "source": [
    "def load_model(filename=\"model.pkl\"):\n",
    "    with open(filename, \"rb\") as f:\n",
    "        data = pickle.load(f)\n",
    "        q_table = defaultdict(lambda: np.zeros(3), data[\"q_table\"])\n",
    "        predictor = data[\"predictor\"]\n",
    "        daily_logs = defaultdict(lambda: {\n",
    "    'time': [],\n",
    "    'tto': [],\n",
    "    'room_temp': [],\n",
    "    'outside_temp': [],\n",
    "    'reward': []\n",
    "}, data[\"daily_logs\"])\n",
    "\n",
    "    return q_table, predictor, daily_logs\n",
    "\n"
   ],
   "outputs": [],
   "execution_count": 9
  },
  {
   "cell_type": "code",
   "source": [
    "def get_outside_temp(time):\n",
    "    \"\"\"Given a global minute count (0 to ~525600), return outside temperature.\"\"\"\n",
    "    H = len(temps)\n",
    "    hour = (time // 60) % H             # wrap around\n",
    "    next_hour = (hour + 1) % H\n",
    "    frac = time % 60\n",
    "    delta = (temps.iloc[next_hour] - temps.iloc[hour]) / 60\n",
    "\n",
    "    return round(temps.iloc[hour] + delta * frac, 0)\n",
    "\n",
    "def get_time_bin(time, interval_minutes=15):\n",
    "    \"\"\"\n",
    "    Given a global minute count (0 to ~525600), return time bin string like '08:15'.\n",
    "    \"\"\"\n",
    "    minute_of_day = time % 1440  # 1440 minutes in a day\n",
    "    bin_minute = (minute_of_day // interval_minutes) * interval_minutes\n",
    "    return f\"{bin_minute // 60:02d}:{bin_minute % 60:02d}\"\n"
   ],
   "metadata": {
    "id": "QHwWYNAwCeZU",
    "ExecuteTime": {
     "end_time": "2025-06-04T12:21:32.489648Z",
     "start_time": "2025-06-04T12:21:32.485723Z"
    }
   },
   "outputs": [],
   "execution_count": 10
  },
  {
   "cell_type": "code",
   "source": [
    "def is_working_hours(total_minutes):\n",
    "    \"\"\"Check if the current minute of the year is within 08:00–18:00 of the current day.\"\"\"\n",
    "    minute_of_day = total_minutes % 1440\n",
    "    return 480 <= minute_of_day < 1080\n"
   ],
   "metadata": {
    "id": "MIIsOkIjeYIe",
    "ExecuteTime": {
     "end_time": "2025-06-04T12:21:32.506416Z",
     "start_time": "2025-06-04T12:21:32.504184Z"
    }
   },
   "outputs": [],
   "execution_count": 11
  },
  {
   "metadata": {
    "id": "AjPWdeG6ppJ_",
    "ExecuteTime": {
     "end_time": "2025-06-04T12:21:32.524528Z",
     "start_time": "2025-06-04T12:21:32.521679Z"
    }
   },
   "cell_type": "code",
   "source": [
    "def print_q_table():\n",
    "    global Q\n",
    "    print(f\"{'State (RoomTemp, TTO, OutTemp)':40s} | {'Heat On':>8s} | {'Cool On':>8s} | {'Off':>8s}\")\n",
    "    print(\"-\" * 75)\n",
    "    for state, actions in Q.items():\n",
    "        rt, tto, ot = state\n",
    "        heat_on, cool_on, off = actions\n",
    "        print(f\"({rt:5.1f}, {tto:5.1f}, {ot:5.1f})\".ljust(40),\n",
    "              f\"| {heat_on:8.2f} | {cool_on:8.2f} | {off:8.2f}\")\n"
   ],
   "outputs": [],
   "execution_count": 12
  },
  {
   "cell_type": "markdown",
   "source": [
    "BAYSEAN OCCUPANCY PREDICTOR"
   ],
   "metadata": {
    "id": "MJVmPkLVR5ad"
   }
  },
  {
   "cell_type": "code",
   "source": [
    "class BayesianOccupancyPredictor:\n",
    "    def __init__(self):\n",
    "        # Dictionary to store probabilities and experience count for each time slot (e.g. \"08:00\", \"08:15\")\n",
    "        self.occupancy_probs = {}\n",
    "        self.experience_counts = {}\n",
    "\n",
    "    def initialize_slot(self, time_slot):\n",
    "        \"\"\"Initialize the time slot if not already present.\"\"\"\n",
    "        if time_slot not in self.occupancy_probs:\n",
    "            self.occupancy_probs[time_slot] = {\n",
    "                'occupied': 0.5,       # Initial prior (50/50)\n",
    "                'not_occupied': 0.5\n",
    "            }\n",
    "            self.experience_counts[time_slot] = 0\n",
    "\n",
    "    def update(self, time_slot, observed_occupied):\n",
    "        \"\"\"Update the probabilities based on a new observation.\"\"\"\n",
    "        self.initialize_slot(time_slot)\n",
    "\n",
    "        prob = self.occupancy_probs[time_slot]\n",
    "        expc = self.experience_counts[time_slot]\n",
    "        expc_prime = expc + 1\n",
    "\n",
    "        if observed_occupied:\n",
    "            prob['occupied'] = (prob['occupied'] * expc + 1) / expc_prime\n",
    "            prob['not_occupied'] = (prob['not_occupied'] * expc) / expc_prime\n",
    "        else:\n",
    "            prob['occupied'] = (prob['occupied'] * expc) / expc_prime\n",
    "            prob['not_occupied'] = (prob['not_occupied'] * expc + 1) / expc_prime\n",
    "\n",
    "        self.experience_counts[time_slot] = expc_prime\n",
    "\n",
    "    def predict(self, time_slot):\n",
    "        \"\"\"Return the current probability of occupancy.\"\"\"\n",
    "        self.initialize_slot(time_slot)\n",
    "        return self.occupancy_probs[time_slot]['occupied']\n",
    "\n",
    "    def print_state(self):\n",
    "        \"\"\"Print all learned occupancy probabilities.\"\"\"\n",
    "        for slot, probs in sorted(self.occupancy_probs.items()):\n",
    "            print(f\"{slot}: P(occupied)={probs['occupied']:.3f}, P(not_occupied)={probs['not_occupied']:.3f}\")\n",
    "\n",
    "    def calculate_tto(self, current_time, threshold=0.7, lookahead_bins=8, bin_interval=15):\n",
    "      \"\"\"Calculate the time to occupancy\"\"\"\n",
    "      for i in range(1, lookahead_bins + 1):\n",
    "          future_time = current_time + i * bin_interval  # Just add minutes\n",
    "          time_bin = get_time_bin(future_time)           # Convert to 'HH:MM' bin\n",
    "          prob = self.predict(time_bin)                  # Lookup predicted occupancy\n",
    "          if prob >= threshold:\n",
    "              return i * bin_interval\n",
    "      return lookahead_bins * bin_interval\n",
    "\n",
    "\n"
   ],
   "metadata": {
    "id": "igocLFeDOolV",
    "ExecuteTime": {
     "end_time": "2025-06-04T12:21:32.551074Z",
     "start_time": "2025-06-04T12:21:32.546496Z"
    }
   },
   "outputs": [],
   "execution_count": 13
  },
  {
   "cell_type": "markdown",
   "source": [
    "![](Images/5.jpg)\n",
    "![](Images/6.jpg)"
   ],
   "metadata": {
    "id": "mygWIXmOylue"
   }
  },
  {
   "cell_type": "markdown",
   "source": [
    "DEFINE THE ENVIRONMENT"
   ],
   "metadata": {
    "id": "v9pEbQk6h8Ao"
   }
  },
  {
   "cell_type": "code",
   "source": [
    "class MyHvacEnv(gym.Env):\n",
    "    def __init__(self):\n",
    "        super(MyHvacEnv, self).__init__()\n",
    "\n",
    "        # 1. Define action space\n",
    "        self.action_space = spaces.Discrete(3)  # 0=Heaton, 1=Cool on, 2=thermostatoff\n",
    "\n",
    "        # 2. Define observation space [rt, tto, ot]\n",
    "        # rt ∈ [-8, 32], tto ∈ [0, 120], ot ∈ [-8, 32]\n",
    "        self.bayesianOccupancyPredictor = BayesianOccupancyPredictor()\n",
    "        self.low = np.array([-8.0, 0.0, -8.0], dtype=np.float32)\n",
    "        self.high = np.array([32, 120.0, 32], dtype=np.float32)\n",
    "        self.observation_space = spaces.Box(self.low, self.high, dtype=np.float32)\n",
    "        self.time = 0\n",
    "\n",
    "        # 3. Internal state variables\n",
    "\n",
    "        self.state,_  = self.reset()\n",
    "        self.rt = self.state[0]\n",
    "        self.tto = self.state[1]\n",
    "        self.ot = self.state[2]\n",
    "        self.step_count = 0\n",
    "\n",
    "    def reset(self, seed=None, options=None):\n",
    "        self.bayesianOccupancyPredictor.update(get_time_bin(0), is_working_hours(0))\n",
    "        super().reset(seed=seed)\n",
    "        # Initialize state: [room_temp, time_to_occupancy, outside_temp]\n",
    "        ot = rt = get_outside_temp(self.time)\n",
    "        tto = self.bayesianOccupancyPredictor.calculate_tto(self.time)\n",
    "        self.state = np.array([rt,tto,ot], dtype=np.float32)\n",
    "        self.step_count = 0\n",
    "        self.time = 0\n",
    "        return self.state, {}  # observation, info\n",
    "\n",
    "    def step(self, action):\n",
    "        self.time += 1\n",
    "        self.bayesianOccupancyPredictor.update(\n",
    "        get_time_bin(self.time),\n",
    "        is_working_hours(self.time)\n",
    "    )\n",
    "        rt, tto, ot = self.state\n",
    "        conduction = calculate_heat_transfer(ot, rt)\n",
    "        heat_change = conduction\n",
    "\n",
    "        if action == HEAT_ON:\n",
    "            heat_change = conduction - HEATER_OUTPUT\n",
    "        elif action == COOL_ON:\n",
    "            heat_change = conduction + HEATER_OUTPUT\n",
    "\n",
    "        change_in_T = calculate_change_in_temp(heat_change)\n",
    "\n",
    "        self.rt = np.clip(round(rt + change_in_T, 0), self.low[0], self.high[0])\n",
    "        self.tto = self.bayesianOccupancyPredictor.calculate_tto(self.time)\n",
    "        self.ot = get_outside_temp(self.time)\n",
    "        reward = self.get_reward(action)\n",
    "        # Update state\n",
    "        self.state = np.array([self.rt, self.tto, self.ot], dtype=np.float32)\n",
    "        self.step_count += 1\n",
    "        terminated = self.time % 1440 == 0\n",
    "        truncated = False\n",
    "\n",
    "        return self.state, reward, terminated, truncated, {}\n",
    "\n",
    "    def get_reward(self,action):\n",
    "      rt, tto, ot = self.state\n",
    "      occupied = is_working_hours(self.time)\n",
    "      setpoint = 23.0\n",
    "      threshold = 2\n",
    "      reward = 0\n",
    "      if occupied and abs(rt - setpoint) <= threshold :\n",
    "         reward = 30\n",
    "      elif occupied and abs(rt - setpoint) > threshold :\n",
    "         reward = -15\n",
    "      elif (tto>=60 and (action == HEAT_ON or action == COOL_ON)) :\n",
    "        reward = -10\n",
    "      elif(action == HEAT_ON and (rt > setpoint or ot > setpoint)):\n",
    "        reward = -7\n",
    "      elif(action == COOL_ON and (rt < setpoint or ot < setpoint)):\n",
    "        reward = -7\n",
    "      else:\n",
    "        reward = 0\n",
    "\n",
    "      return reward\n",
    "\n",
    "    def render(self):\n",
    "        pass\n",
    "\n",
    "    def close(self):\n",
    "        pass\n"
   ],
   "metadata": {
    "id": "rFFnMAx0ku41",
    "ExecuteTime": {
     "end_time": "2025-06-04T12:21:32.578447Z",
     "start_time": "2025-06-04T12:21:32.571406Z"
    }
   },
   "outputs": [],
   "execution_count": 14
  },
  {
   "cell_type": "markdown",
   "source": "![](Images/9.png)",
   "metadata": {
    "id": "wKbTa__Y0XeB"
   }
  },
  {
   "metadata": {
    "id": "xp5mwcupppJ_",
    "ExecuteTime": {
     "end_time": "2025-06-04T12:21:32.602974Z",
     "start_time": "2025-06-04T12:21:32.597615Z"
    }
   },
   "cell_type": "code",
   "source": [
    "def train(days, years):\n",
    "  global Q\n",
    "  env = MyHvacEnv()\n",
    "  action_size = env.action_space.n\n",
    "\n",
    "  import random\n",
    "\n",
    "  # Hyperparameters\n",
    "  alpha = 0.1        # learning rate\n",
    "  gamma = 0.99       # discount factor\n",
    "  epsilon = 1.0      # exploration rate\n",
    "  epsilon_decay = 0.5\n",
    "  for ep in range(years):\n",
    "    state, _ = env.reset()\n",
    "    epsilon *= epsilon_decay\n",
    "    for j in range(days):\n",
    "        total_reward = 0\n",
    "        done = False\n",
    "        while not done:\n",
    "            state_key = tuple(state)\n",
    "\n",
    "            # Epsilon-greedy action selection\n",
    "            if state_key not in Q:\n",
    "                Q[state_key] = np.zeros(env.action_space.n)\n",
    "            if random.random() < epsilon:\n",
    "                action = env.action_space.sample()\n",
    "            else:\n",
    "                action = np.argmax(Q[state_key])\n",
    "\n",
    "\n",
    "            next_state, reward, terminated, truncated, _ = env.step(action)\n",
    "            next_state_key = tuple(next_state)\n",
    "            if next_state_key not in Q:\n",
    "                 Q[next_state_key] = np.zeros(action_size)\n",
    "            # Update Q-table\n",
    "            if total_reward <-500000:\n",
    "              truncated = True\n",
    "            done = terminated or truncated\n",
    "            best_next_action = np.argmax(Q[next_state_key])\n",
    "            td_target = reward + gamma * Q[next_state_key][best_next_action]\n",
    "            td_error = td_target - Q[state_key][action]\n",
    "\n",
    "            Q[state_key][action] += alpha * td_error\n",
    "            state = next_state\n",
    "            total_reward += reward\n",
    "            # Log after step\n",
    "            if(env.time % 15 == 0):\n",
    "              if ep == years-1:\n",
    "                day = env.time // 1440\n",
    "                minute_of_day = env.time % 1440\n",
    "\n",
    "                daily_logs[day]['time'].append(minute_of_day)\n",
    "                daily_logs[day]['room_temp'].append(env.rt)\n",
    "                daily_logs[day]['outside_temp'].append(env.ot)\n",
    "                daily_logs[day]['reward'].append(reward)\n",
    "                daily_logs[day]['tto'].append(env.tto)\n",
    "        if(j%365 == 0):\n",
    "          print(f\"Year {ep+1}, Total reward: {total_reward}\")\n",
    "  save_model(dict(Q), env.bayesianOccupancyPredictor,dict(daily_logs), \"Models/model4.pkl\")\n",
    "\n",
    "\n"
   ],
   "outputs": [],
   "execution_count": 15
  },
  {
   "metadata": {
    "id": "qny3olckppJ_",
    "outputId": "218930cc-1def-42f8-bff9-315e001244fe",
    "ExecuteTime": {
     "end_time": "2025-06-04T12:38:08.269167Z",
     "start_time": "2025-06-04T12:21:46.026530Z"
    }
   },
   "cell_type": "code",
   "source": [
    "reset_plot_variables()\n",
    "train(365,100)\n"
   ],
   "outputs": [
    {
     "name": "stdout",
     "output_type": "stream",
     "text": [
      "Year 1, Total reward: -6940\n",
      "Year 2, Total reward: 11688\n",
      "Year 3, Total reward: 13129\n",
      "Year 4, Total reward: 13727\n",
      "Year 5, Total reward: 14695\n",
      "Year 6, Total reward: 16365\n",
      "Year 7, Total reward: 15470\n",
      "Year 8, Total reward: 17545\n",
      "Year 9, Total reward: 14430\n",
      "Year 10, Total reward: 17565\n",
      "Year 11, Total reward: 17005\n",
      "Year 12, Total reward: 17420\n",
      "Year 13, Total reward: 17820\n",
      "Year 14, Total reward: 17575\n",
      "Year 15, Total reward: 17430\n",
      "Year 16, Total reward: 17405\n",
      "Year 17, Total reward: 17730\n",
      "Year 18, Total reward: 17745\n",
      "Year 19, Total reward: 17410\n",
      "Year 20, Total reward: 17375\n",
      "Year 21, Total reward: 17375\n",
      "Year 22, Total reward: 17375\n",
      "Year 23, Total reward: 17375\n",
      "Year 24, Total reward: 17375\n",
      "Year 25, Total reward: 17375\n",
      "Year 26, Total reward: 17375\n",
      "Year 27, Total reward: 17375\n",
      "Year 28, Total reward: 17375\n",
      "Year 29, Total reward: 17375\n",
      "Year 30, Total reward: 17375\n",
      "Year 31, Total reward: 17375\n",
      "Year 32, Total reward: 17375\n",
      "Year 33, Total reward: 17375\n",
      "Year 34, Total reward: 17375\n",
      "Year 35, Total reward: 17375\n",
      "Year 36, Total reward: 17375\n",
      "Year 37, Total reward: 17375\n",
      "Year 38, Total reward: 17375\n",
      "Year 39, Total reward: 17375\n",
      "Year 40, Total reward: 17375\n",
      "Year 41, Total reward: 17375\n",
      "Year 42, Total reward: 17375\n",
      "Year 43, Total reward: 17375\n",
      "Year 44, Total reward: 17375\n",
      "Year 45, Total reward: 17375\n",
      "Year 46, Total reward: 17375\n",
      "Year 47, Total reward: 17375\n",
      "Year 48, Total reward: 17375\n",
      "Year 49, Total reward: 17375\n",
      "Year 50, Total reward: 17375\n",
      "Year 51, Total reward: 17375\n",
      "Year 52, Total reward: 17375\n",
      "Year 53, Total reward: 17375\n",
      "Year 54, Total reward: 17375\n",
      "Year 55, Total reward: 17375\n",
      "Year 56, Total reward: 17375\n",
      "Year 57, Total reward: 17375\n",
      "Year 58, Total reward: 17375\n",
      "Year 59, Total reward: 17375\n",
      "Year 60, Total reward: 17375\n",
      "Year 61, Total reward: 17375\n",
      "Year 62, Total reward: 17375\n",
      "Year 63, Total reward: 17375\n",
      "Year 64, Total reward: 17375\n",
      "Year 65, Total reward: 17375\n",
      "Year 66, Total reward: 17375\n",
      "Year 67, Total reward: 17375\n",
      "Year 68, Total reward: 17375\n",
      "Year 69, Total reward: 17375\n",
      "Year 70, Total reward: 17375\n",
      "Year 71, Total reward: 17375\n",
      "Year 72, Total reward: 17375\n",
      "Year 73, Total reward: 17375\n",
      "Year 74, Total reward: 17375\n",
      "Year 75, Total reward: 17375\n",
      "Year 76, Total reward: 17375\n",
      "Year 77, Total reward: 17375\n",
      "Year 78, Total reward: 17375\n",
      "Year 79, Total reward: 17375\n",
      "Year 80, Total reward: 17375\n",
      "Year 81, Total reward: 17375\n",
      "Year 82, Total reward: 17375\n",
      "Year 83, Total reward: 17375\n",
      "Year 84, Total reward: 17375\n",
      "Year 85, Total reward: 17375\n",
      "Year 86, Total reward: 17375\n",
      "Year 87, Total reward: 17375\n",
      "Year 88, Total reward: 17375\n",
      "Year 89, Total reward: 17375\n",
      "Year 90, Total reward: 17375\n",
      "Year 91, Total reward: 17375\n",
      "Year 92, Total reward: 17375\n",
      "Year 93, Total reward: 17375\n",
      "Year 94, Total reward: 17375\n",
      "Year 95, Total reward: 17375\n",
      "Year 96, Total reward: 17375\n",
      "Year 97, Total reward: 17375\n",
      "Year 98, Total reward: 17375\n",
      "Year 99, Total reward: 17375\n",
      "Year 100, Total reward: 17375\n"
     ]
    }
   ],
   "execution_count": 16
  },
  {
   "metadata": {
    "id": "iYLC-ROIppJ_",
    "ExecuteTime": {
     "end_time": "2025-06-04T12:38:47.868502Z",
     "start_time": "2025-06-04T12:38:47.826194Z"
    }
   },
   "cell_type": "code",
   "source": "Q,_,logs = load_model(\"Models/model4.pkl\") #best model is model 4",
   "outputs": [],
   "execution_count": 19
  },
  {
   "metadata": {
    "id": "Y7TXBH2UppJ_",
    "outputId": "22b2101f-d442-4ec5-ba86-3808d8f766bb",
    "ExecuteTime": {
     "end_time": "2025-06-04T12:38:21.098590Z",
     "start_time": "2025-06-04T12:38:21.092095Z"
    }
   },
   "cell_type": "code",
   "source": [
    "print(len(Q))"
   ],
   "outputs": [
    {
     "name": "stdout",
     "output_type": "stream",
     "text": [
      "6927\n"
     ]
    }
   ],
   "execution_count": 17
  },
  {
   "metadata": {
    "id": "_IanxEqOgtVO"
   },
   "cell_type": "markdown",
   "source": [
    "PLOT\n"
   ]
  },
  {
   "metadata": {
    "id": "cbExqdwYppJ_",
    "outputId": "a65c7a72-d868-4c11-8425-d44adb5c1ecd",
    "ExecuteTime": {
     "end_time": "2025-06-04T12:38:50.552140Z",
     "start_time": "2025-06-04T12:38:50.273667Z"
    }
   },
   "cell_type": "code",
   "source": [
    "# Total reward per day\n",
    "daily_reward_sums = {day: sum(log['reward']) for day, log in logs.items()}\n",
    "\n",
    "# Aggregate by month (day // 30)\n",
    "monthly_reward_sums = defaultdict(int)\n",
    "for day, total in daily_reward_sums.items():\n",
    "    month = day // 30\n",
    "    monthly_reward_sums[month] += total\n",
    "\n",
    "# Plot daily reward\n",
    "plt.figure(figsize=(12, 4))\n",
    "plt.bar(daily_reward_sums.keys(), daily_reward_sums.values())\n",
    "plt.xlabel(\"Day\")\n",
    "plt.ylabel(\"Total Reward\")\n",
    "plt.title(\"Reward per Day\")\n",
    "plt.show()\n",
    "\n",
    "# Plot monthly reward\n",
    "plt.figure(figsize=(8, 4))\n",
    "plt.bar(monthly_reward_sums.keys(), monthly_reward_sums.values())\n",
    "plt.xlabel(\"Month\")\n",
    "plt.ylabel(\"Total Reward\")\n",
    "plt.title(\"Reward per Month\")\n",
    "plt.show()\n"
   ],
   "outputs": [
    {
     "data": {
      "text/plain": [
       "<Figure size 1200x400 with 1 Axes>"
      ],
      "image/png": "[encoded data removed]"
     },
     "metadata": {},
     "output_type": "display_data"
    },
    {
     "data": {
      "text/plain": [
       "<Figure size 800x400 with 1 Axes>"
      ],
      "image/png": "[encoded data removed]"
     },
     "metadata": {},
     "output_type": "display_data"
    }
   ],
   "execution_count": 20
  },
  {
   "metadata": {
    "id": "F8f_ER-9ppJ_",
    "ExecuteTime": {
     "end_time": "2025-06-04T12:39:34.979267Z",
     "start_time": "2025-06-04T12:39:34.969407Z"
    }
   },
   "cell_type": "code",
   "source": [
    "# -------------------------------\n",
    "# 2. Interactive Day Picker Plot\n",
    "# -------------------------------\n",
    "def plot_day(daily_logs, day):\n",
    "    if day not in daily_logs:\n",
    "        print(f\"Day {day} not found.\")\n",
    "        return\n",
    "\n",
    "    data = daily_logs[day]\n",
    "    time_raw = [t for t in data['time'] if t % 15 == 0]\n",
    "    idxs = [i for i, t in enumerate(data['time']) if t % 15 == 0]\n",
    "\n",
    "    tto = [data['tto'][i] for i in idxs]\n",
    "    rt = [data['room_temp'][i] for i in idxs]\n",
    "    ot = [data['outside_temp'][i] for i in idxs]\n",
    "    reward = [data['reward'][i] for i in idxs]\n",
    "    cumulative_reward = [sum(reward[:i+1]) for i in range(len(reward))]\n",
    "\n",
    "    fig, ax = plt.subplots(4, 1, figsize=(12, 10), sharex=True)\n",
    "    hours = [f\"{t // 60:02d}:00\" for t in range(0, 1440, 60)]\n",
    "    xticks = [i for i, t in enumerate(time_raw) if t % 60 == 0]\n",
    "\n",
    "    ax[0].plot(tto, label='Predicted Occupancy')\n",
    "    ax[0].set_ylabel(\"Time to Occupancy.\")\n",
    "    ax[0].legend()\n",
    "\n",
    "    ax[1].plot(rt, label='Indoor Temp')\n",
    "    ax[1].plot(ot, label='Outdoor Temp', linestyle='--')\n",
    "    ax[1].set_ylabel(\"Temperature (°C)\")\n",
    "    ax[1].legend()\n",
    "\n",
    "    ax[2].plot(reward, label='Reward', color='green')\n",
    "    ax[2].set_ylabel(\"Reward\")\n",
    "    ax[2].legend()\n",
    "\n",
    "    ax[3].plot(cumulative_reward, label='Cumulative Reward', color='orange')\n",
    "    ax[3].set_ylabel(\"Cumulative Reward\")\n",
    "    ax[3].set_xlabel(\"Time (hour)\")\n",
    "    ax[3].legend()\n",
    "\n",
    "    plt.xticks(xticks, hours, rotation=45)\n",
    "    plt.tight_layout()\n",
    "    plt.show()\n"
   ],
   "outputs": [],
   "execution_count": 21
  },
  {
   "metadata": {
    "id": "HNDd_3KZppJ_",
    "outputId": "12bbc6a1-1c98-4e0d-db5f-1109f45b312c",
    "ExecuteTime": {
     "end_time": "2025-06-04T12:39:37.139479Z",
     "start_time": "2025-06-04T12:39:36.941107Z"
    }
   },
   "cell_type": "code",
   "source": "plot_day(logs, 55)",
   "outputs": [
    {
     "data": {
      "text/plain": [
       "<Figure size 1200x1000 with 4 Axes>"
      ],
      "image/png": "[encoded data removed]"
     },
     "metadata": {},
     "output_type": "display_data"
    }
   ],
   "execution_count": 22
  },
  {
   "metadata": {
    "id": "3p6NN5bVppJ_"
   },
   "cell_type": "code",
   "source": [
    "# -------------------------------\n",
    "# 1. Interactive Day Picker Widget\n",
    "# -------------------------------\n",
    "\n",
    "def interactive_day_plot(daily_logs):\n",
    "    max_day = max(daily_logs.keys())\n",
    "\n",
    "    day_selector = widgets.IntSlider(value=0, min=1, max=max_day, step=1, description='Day:')\n",
    "    output = widgets.Output()\n",
    "\n",
    "    def update_plot(change):\n",
    "        with output:\n",
    "            output.clear_output(wait=True)\n",
    "            plot_day(daily_logs, day_selector.value)\n",
    "\n",
    "    day_selector.observe(update_plot, names='value')\n",
    "\n",
    "    display(day_selector, output)\n",
    "    update_plot(None)  # initial plot"
   ],
   "outputs": [],
   "execution_count": null
  },
  {
   "metadata": {
    "colab": {
     "referenced_widgets": [
      "a86ea8ea7d5d42088902f77354d4edbb",
      "eaf3f2799b464a8aafb4b24f3625de61"
     ]
    },
    "id": "16V1YJZ-ppJ_",
    "outputId": "656efdf9-8074-462f-9866-e9571965e7e5"
   },
   "cell_type": "code",
   "source": [
    "interactive_day_plot(logs)\n"
   ],
   "outputs": [],
   "execution_count": null
  },
  {
   "metadata": {
    "id": "v3bNA07fppKA"
   },
   "cell_type": "markdown",
   "source": [
    "SIMULATE"
   ]
  },
  {
   "metadata": {},
   "cell_type": "code",
   "source": [
    "def simulate_day(day):\n",
    "    q_table, predictor, daily_logs = load_model(\"model3.pkl\")\n",
    "    env = MyHvacEnv()\n",
    "    env.bayesianOccupancyPredictor = predictor\n",
    "    state, _ = env.reset()\n",
    "    env.time = day * 1440 + 1\n",
    "    initial_temp = get_outside_temp(env.time)\n",
    "    state[0] = initial_temp   # rt\n",
    "    state[2] = initial_temp   # ot\n",
    "    state[1] = predictor.calculate_tto(env.time)  # tto\n",
    "    env.state = np.array([state[0], state[1], state[2]], dtype=np.float32)\n",
    "\n",
    "    pygame.init()\n",
    "    WIDTH, HEIGHT = 800, 600\n",
    "    screen = pygame.display.set_mode((WIDTH, HEIGHT))\n",
    "    pygame.display.set_caption(\"Q-Table Day Simulation\")\n",
    "    font = pygame.font.SysFont(None, 28)\n",
    "    clock = pygame.time.Clock()\n",
    "\n",
    "    running = True\n",
    "    paused = False\n",
    "    step_index = 0\n",
    "\n",
    "    def temp_color(temp):\n",
    "        if temp < 20:\n",
    "            return (0, 0, 255)\n",
    "        elif temp > 25:\n",
    "            return (255, 0, 0)\n",
    "        else:\n",
    "            return (0, 255, 0)\n",
    "\n",
    "    def draw(state, action, reward):\n",
    "        screen.fill((245, 245, 245))\n",
    "        rt, tto, ot = state\n",
    "\n",
    "        ot_size = np.interp(ot, [env.low[2], env.high[2]], [100, 400])\n",
    "        ot_color = temp_color(ot)\n",
    "        ot_rect = pygame.Rect(WIDTH//2 - ot_size//2, HEIGHT//2 - ot_size//2, ot_size, ot_size)\n",
    "        pygame.draw.rect(screen, ot_color, ot_rect, width=4)\n",
    "\n",
    "        rt_size = np.interp(rt, [env.low[0], env.high[0]], [50, ot_size-20])\n",
    "        rt_color = temp_color(rt)\n",
    "        rt_rect = pygame.Rect(WIDTH//2 - rt_size//2, HEIGHT//2 - rt_size//2, rt_size, rt_size)\n",
    "        pygame.draw.rect(screen, rt_color, rt_rect)\n",
    "\n",
    "        occ = is_working_hours(env.time)\n",
    "        tri_color = (255, 165, 0) if occ else (128, 128, 128)\n",
    "        cx, cy = WIDTH//2, HEIGHT//2\n",
    "        size = rt_size / 3\n",
    "        points = [\n",
    "            (cx, cy - size / 2),\n",
    "            (cx - size / 2, cy + size / 2),\n",
    "            (cx + size / 2, cy + size / 2)\n",
    "        ]\n",
    "        pygame.draw.polygon(screen, tri_color, points)\n",
    "\n",
    "        labels = [\n",
    "            f\"Day: {day}\",\n",
    "            f\"Time: {env.time//60 % 24:02d}:{env.time % 60:02d}\",\n",
    "            f\"Room Temp: {env.rt:.1f}°C\",\n",
    "            f\"Outside Temp: {env.ot:.1f}°C\",\n",
    "            f\"TTO: {env.tto:.1f} min\",\n",
    "            f\"Action: {['Heat On','Cool On','Off'][action]}\",\n",
    "            f\"Reward: {reward:.1f}\",\n",
    "            f\"Occupied: {'Yes' if occ else 'No'}\"\n",
    "        ]\n",
    "        for i, txt in enumerate(labels):\n",
    "            surf = font.render(txt, True, (0, 0, 0))\n",
    "            screen.blit(surf, (40, 40 + i * 30))\n",
    "\n",
    "        pygame.display.flip()\n",
    "\n",
    "    while running:\n",
    "        clock.tick(15 if not paused else 3)\n",
    "\n",
    "        for event in pygame.event.get():\n",
    "            if event.type == pygame.QUIT:\n",
    "                running = False\n",
    "            elif event.type == pygame.KEYDOWN:\n",
    "                if event.key == pygame.K_SPACE:\n",
    "                    paused = not paused\n",
    "                elif event.key == pygame.K_RIGHT:\n",
    "                    day += 1\n",
    "                    state, _ = env.reset()\n",
    "                    env.time = day * 1440\n",
    "                    new_temp = get_outside_temp(env.time)\n",
    "                    state[0] = new_temp\n",
    "                    state[2] = new_temp\n",
    "                    state[1] = predictor.calculate_tto(env.time)\n",
    "                    env.state = np.array([state[0], state[1], state[2]], dtype=np.float32)\n",
    "                    step_index = 0\n",
    "                elif event.key == pygame.K_LEFT:\n",
    "                    day = max(0, day - 1)\n",
    "                    state, _ = env.reset()\n",
    "                    env.time = day * 1440\n",
    "                    new_temp = get_outside_temp(env.time)\n",
    "                    state[0] = new_temp\n",
    "                    state[2] = new_temp\n",
    "                    state[1] = predictor.calculate_tto(env.time)\n",
    "                    env.state = np.array([state[0], state[1], state[2]], dtype=np.float32)\n",
    "                    step_index = 0\n",
    "\n",
    "        if not paused and running:\n",
    "            tto_now = predictor.calculate_tto(env.time)\n",
    "            current_rt = env.rt\n",
    "            current_ot = env.ot\n",
    "            state = np.array([current_rt, tto_now, current_ot], dtype=np.float32)\n",
    "            state_key = (float(state[0]), float(state[1]), float(state[2]))\n",
    "\n",
    "            if state_key not in q_table:\n",
    "                print(\"Missing key in Q-table:\", state_key)\n",
    "                action = env.action_space.sample()\n",
    "            else:\n",
    "                action = int(np.argmax(q_table[state_key]))\n",
    "\n",
    "            state, reward, terminated, truncated, _ = env.step(action)\n",
    "            draw(state, action, reward)\n",
    "            step_index += 1\n",
    "\n",
    "            if step_index >= 1440 or terminated:\n",
    "                paused = True\n",
    "\n",
    "    pygame.quit()\n",
    "    return\n"
   ],
   "outputs": [],
   "execution_count": null
  },
  {
   "metadata": {},
   "cell_type": "code",
   "source": "simulate_day(55)",
   "outputs": [],
   "execution_count": null
  }
 ]
}
